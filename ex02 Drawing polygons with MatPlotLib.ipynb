{
 "cells": [
  {
   "cell_type": "markdown",
   "metadata": {},
   "source": [
    "# Exercise 2: Drawing Polygons (Lists, Tuples, Plotting and Looping)\n",
    "This exercise introduces two of the most important concepts in programming: managing a large `list` of values and processing a list by performing repetitive operations in a `loop`. It also introduces the plotting library `matplotlib`, `tuples` (immutable lists), a standard way of representing a polygon in Python as a list of tuples, and the `zip` function for converting between a list of tuples and a pair of lists. \n",
    "\n",
    "Before beginning this assignment, please read through Matthes chs. 3 and watch the video lecture(s) for this week.\n",
    "\n",
    "<p style=\"color: red\">Don't forget to add a new markdown cell at the top of this notebook with your name in it, along with any questions you have about the assignment.</p>"
   ]
  },
  {
   "cell_type": "markdown",
   "metadata": {},
   "source": [
    "# Setup\n",
    "Throughout this lab you'll be working with a built-in library called <a href=\"https://matplotlib.org/\">matplotlib</a> that provides many useful plotting and visualization functions. Run the following code once to import this library:"
   ]
  },
  {
   "cell_type": "code",
   "execution_count": null,
   "metadata": {},
   "outputs": [],
   "source": [
    "import matplotlib.pyplot as plt\n",
    "%matplotlib inline"
   ]
  },
  {
   "cell_type": "markdown",
   "metadata": {},
   "source": [
    "The first line of code imports just the <a href=\"https://matplotlib.org/api/_as_gen/matplotlib.pyplot.html\"> pyplot</a> module from matplotlib and renames it as `plt` for easier typing. The second line of code is a so-called <a href=\"https://ipython.readthedocs.io/en/stable/interactive/tutorial.html#magics-explained\">\"magic function\"</a> that tells Jupyter Notebook to display all plots from matplot lib inline."
   ]
  },
  {
   "cell_type": "markdown",
   "metadata": {},
   "source": [
    "# Part 1: Let's Draw!\n",
    "We'll begin with a simple example. The following code shows how to draw a square centered at `(0,0)` with side length `2`. Run the code to confirm that it works:"
   ]
  },
  {
   "cell_type": "code",
   "execution_count": null,
   "metadata": {},
   "outputs": [],
   "source": [
    "# create lists of x & y coordinates for a square\n",
    "x=[-1,-1,1,1,-1]\n",
    "y=[-1,1,1,-1,-1]\n",
    "# draw coordinates on a plot\n",
    "plt.plot(x,y)"
   ]
  },
  {
   "cell_type": "markdown",
   "metadata": {},
   "source": [
    "The above code uses `pyplot`'s `plot` function. Without any additional parameters, the `plot` function draws a polyline through a set of coordinates. Note that this function takes separate lists of x- and y-coordinates as input.   "
   ]
  },
  {
   "cell_type": "markdown",
   "metadata": {},
   "source": [
    "## Try it Yourself\n",
    "In the next code block, write similar code to draw a diamond shape."
   ]
  },
  {
   "cell_type": "code",
   "execution_count": null,
   "metadata": {},
   "outputs": [],
   "source": []
  },
  {
   "cell_type": "markdown",
   "metadata": {},
   "source": [
    "## Coordinate Pairs\n",
    "You may have felt the last task a bit tricky. We think of a polygon as a sequence of points, so it would be easier if we could create a list of points rather than two separate lists of x- and y- coordinates. The following code illustrates a more readable method to construct the same square we constructed above. Run the code, and notice the structure of the list assigned to the `square` variable:"
   ]
  },
  {
   "cell_type": "code",
   "execution_count": null,
   "metadata": {},
   "outputs": [],
   "source": [
    "# create four points as xy tuples\n",
    "pt1 = (-1,-1)\n",
    "pt2 = (-1,1)\n",
    "pt3 = (1,1)\n",
    "pt4 = (1,-1)\n",
    "# a square formed by putting these tuples in a list\n",
    "square = [pt1,pt2,pt3,pt4,pt1]\n",
    "# let's see what this looks like\n",
    "print(square)"
   ]
  },
  {
   "cell_type": "markdown",
   "metadata": {},
   "source": [
    "This is more readable. Each item in the list is a tuple containing two values: an x-coordinate and a y-coordinate. For example, the first item in the list is the tuple `(-1,-1)`, meaning the point at `x=-1` and `y=-1`. The list contains five tuples in all. <p> "
   ]
  },
  {
   "cell_type": "markdown",
   "metadata": {},
   "source": [
    "## Unzipping a List of Tuples\n",
    "There is a problem though: `pyplot` requires two separate lists of x and y coordinates, not one list of xy tuples. So if we want to represent a polygon as a list of tuples and then plot it with `pyplot`, we'll have to convert it into two separate lists. Luckily, Python has a built-in `zip` function that can help us to easily convert between a pair of lists and a list of tuples. The following code indicates how to \"unzip\" a list of tuples:"
   ]
  },
  {
   "cell_type": "code",
   "execution_count": null,
   "metadata": {},
   "outputs": [],
   "source": [
    "# unzip a list of tuples by giving the list to the zip function with an asterisk before it\n",
    "x,y = zip(*square)\n",
    "print(\"X coordinates:\",x)\n",
    "print(\"Y coordinates:\",y)"
   ]
  },
  {
   "cell_type": "markdown",
   "metadata": {},
   "source": [
    "Hmm... when you ran that cell, did you notice that the output is not a pair of lists? What is it? (write your answer in the markdown cell below)"
   ]
  },
  {
   "cell_type": "markdown",
   "metadata": {},
   "source": []
  },
  {
   "cell_type": "markdown",
   "metadata": {},
   "source": [
    "That's no problem though, we can easily convert these into lists by using the built-in `list` function which converts any list-like set of values into a proper list:"
   ]
  },
  {
   "cell_type": "code",
   "execution_count": null,
   "metadata": {},
   "outputs": [],
   "source": [
    "x = list(x)\n",
    "y = list(y)\n",
    "print(\"X coordinates:\",x)\n",
    "print(\"Y coordinates:\",y)"
   ]
  },
  {
   "cell_type": "markdown",
   "metadata": {},
   "source": [
    "## Putting it together\n",
    "In the next cell, write code to create a polygon with 10 points in the approximate shape of a geographic area such as Florida or France. Create your polygon as a list of xy tuples, then convert to separate lists of x- and y-coordinates. Finally, use these lists to plot your polygon with matplotlib. Your shape doesn't need to be perfect - try to keep it simple but recognizable."
   ]
  },
  {
   "cell_type": "code",
   "execution_count": null,
   "metadata": {},
   "outputs": [],
   "source": []
  },
  {
   "cell_type": "markdown",
   "metadata": {},
   "source": [
    "## Additional Information: Zipping"
   ]
  },
  {
   "cell_type": "markdown",
   "metadata": {},
   "source": [
    "You just learned to \"unzip\" or convert a single list of xy tuples to two separate lists of numbers, but what if you want to go the other way around? To convert a pair of number lists into a single list of tuples (i.e. \"zip\" the two lists together), just use the `zip` function without the asterisk:"
   ]
  },
  {
   "cell_type": "code",
   "execution_count": null,
   "metadata": {},
   "outputs": [],
   "source": [
    "square_copy = zip(x,y)\n",
    "print(square_copy)"
   ]
  },
  {
   "cell_type": "markdown",
   "metadata": {},
   "source": [
    "This creates not a list but but a mysterious \"zip object\". Nothing to fear, though - you can easily convert a zip object to a list by using the `list` function: "
   ]
  },
  {
   "cell_type": "code",
   "execution_count": null,
   "metadata": {},
   "outputs": [],
   "source": [
    "square_copy = list(square_copy)\n",
    "print(square_copy)"
   ]
  },
  {
   "cell_type": "markdown",
   "metadata": {},
   "source": [
    "Briefly, a zip object is a list-like object that has been compressed and hidden to save memory resources. Like many programming concepts, this is very useful for advanced programmers but it can be annoying in the beginning... just remember whenever you use the `zip` function, follow it by using the `list` function to convert the results to a simple list. "
   ]
  },
  {
   "cell_type": "markdown",
   "metadata": {},
   "source": [
    "# Part 2: Mystery Country\n",
    "Now that you know how to represent a polygon as a list of xy tuples, it's time to explore some of the things that you can do with lists in python. In this section, you are given a set of coordinates for a mystery country. The coordinates have been garbled by a \"hacker\", and you need to fix them. You are given instructions to modify the coordinate list by appending, inserting and removing coordinates. When you have completed every step, the coordinates will form the outline of a recognizable country.\n",
    "\n",
    "Exact Python code is not provided, and you're going to need some looping skills to get through this. So be sure to read through Matthes chs. 3 & 4 and view the video lecture before proceeding!"
   ]
  },
  {
   "cell_type": "markdown",
   "metadata": {},
   "source": [
    "## Starting Coordinates\n",
    "The code cell below defines a list of coordinates. Run the cell once to create the `mystery_country` variable in memory. \n",
    "<i><p>Note: As you go through this exercise, you will likely make mistakes. When that happens you will need to re-run every code cell in this section again in sequence, starting with the cell immediately below. This is because you will be modifying the variable `mystery_country` and will need to reset it.</p></i>"
   ]
  },
  {
   "cell_type": "code",
   "execution_count": null,
   "metadata": {},
   "outputs": [],
   "source": [
    "mystery_country = [(97, 38), (94, 27), (93, 22), (91, 20), (90, 16), (87, 9), (85, 4), (85, -1), (83, -3), (81, -4), (80, -5), (79, -7), (77, -9), (76, -11), (75, -11), (74, -10), (73, -11), (71, -14), (70, -15), (68, -14), (66, -15), (65, -15), (63, -14), (62, -13), (63, -12), (62, -12), (60, -10), (59, -9), (60, -8), (59, -9), (58, -6), (55, -10), (54, -14), (53, -15), (52, -13), (49, -7), (42, -6), (38, -8), (31, -11), (20, -10), (20, -20), (7, -20), (0, -2), (-1, 9), (1, 15), (12, 21), (25, 39), (30, 43), (32, 42), (36, 39), (40, 45), (43, 47), (48, 48), (56, 45), (57, 42), (56, 39), (54, 35), (54, 32), (54, 29), (40, 20), (30, 0), (40, 0), (60, 10), (65, 19), (67, 18)]"
   ]
  },
  {
   "cell_type": "markdown",
   "metadata": {},
   "source": [
    "Now write code to plot the mystery country:"
   ]
  },
  {
   "cell_type": "code",
   "execution_count": null,
   "metadata": {},
   "outputs": [],
   "source": []
  },
  {
   "cell_type": "markdown",
   "metadata": {},
   "source": [
    "Any guesses right away as to what country this is? <p style=\"color:red\">Write your best guess in a comment statement at the end of the above code cell.</p><p>Don't worry if you're not sure - it's been garbled a lot by the \"hacker\"! The country should start to form more clearly as you follow each step below.</p>"
   ]
  },
  {
   "cell_type": "markdown",
   "metadata": {},
   "source": [
    "## Append a Point\n",
    "The hacker deleted the last point in the list, so you'll need to add it back in.\n",
    "\n",
    "In the next cell block, append a single point at coordinates `x=70` and `y=21` to the end of the coordinate list. Remember that a point is represented in code by a tuple containing two numbers. Then plot the coordinates again. "
   ]
  },
  {
   "cell_type": "code",
   "execution_count": null,
   "metadata": {},
   "outputs": [],
   "source": []
  },
  {
   "cell_type": "markdown",
   "metadata": {},
   "source": [
    "<p style=\"color:red\">Do you notice the change? Well it's not a big change yet... but don't worry, you'll start noticing some more substantial changes soon.</p>"
   ]
  },
  {
   "cell_type": "markdown",
   "metadata": {},
   "source": [
    "## Insert a Point\n",
    "The hacker deleted another point in the middle of the list. \n",
    "\n",
    "Insert a point with coordinates `x=57` and `y=-12` to the list at index position `30`. "
   ]
  },
  {
   "cell_type": "code",
   "execution_count": null,
   "metadata": {},
   "outputs": [],
   "source": []
  },
  {
   "cell_type": "markdown",
   "metadata": {},
   "source": [
    "<p>Again plot the coordinates after inserting the above point. Did you notice the change this time? This change is still pretty subtle, but if you're very familiar with this country you just might start to recognize it...</p>\n",
    "    \n",
    "<p style=\"color: red\"><i>Going forward, plot the coordinates again after every modification you make. Feel free to insert comments describing any observations you can make, especially if you have a new guess or are more confident about the identity of the \"mystery country\". </i></p>"
   ]
  },
  {
   "cell_type": "markdown",
   "metadata": {},
   "source": [
    "## Remove a Point by Index\n",
    "The hacker didn't just remove points, he also added some that don't belong.\n",
    "\n",
    "Remove the point at index position `40`."
   ]
  },
  {
   "cell_type": "code",
   "execution_count": null,
   "metadata": {},
   "outputs": [],
   "source": []
  },
  {
   "cell_type": "markdown",
   "metadata": {},
   "source": [
    "## Remove a Point by Value\n",
    "Now remove the point located at `x=20` and `y=-20'."
   ]
  },
  {
   "cell_type": "code",
   "execution_count": null,
   "metadata": {},
   "outputs": [],
   "source": []
  },
  {
   "cell_type": "markdown",
   "metadata": {},
   "source": [
    "## Append Multiple Points\n",
    "Hmm... it turns out the \"hacker\" cut off an entire section of the country. Heavens me - it's missing the last 10 points!! We could append these one at a time, but it will be faster to use a `loop` - that will save us a lot of typing. <p> The `pts_to_add` variable defined in the code cell below contains a list of 10 points. Use a loop to append these points to `mystery_country`. </p>\n",
    "<br><i>Hint: <br>\n",
    " - Loop through the items in `pts_to_add`. Let's call the loop variable `pt`.\n",
    "     - Inside the loop, you need just one line of code that appends `pt` to the end of `mystery_country`. \n",
    " - Be sure to unindent your code before plotting `mystery_country` again! </i>"
   ]
  },
  {
   "cell_type": "code",
   "execution_count": null,
   "metadata": {},
   "outputs": [],
   "source": [
    "pts_to_add = [(70, 32), (73, 38), (77, 24), (82, 14), (84, 8), (85, -1), (88, -9), (94, -19), (96, -27), (97, -37)]\n",
    "\n",
    "# Add your code below to append these points to the mystery country\n"
   ]
  },
  {
   "cell_type": "markdown",
   "metadata": {},
   "source": [
    "## Remove Multiple Points\n",
    "Well now this takes the cake - the hacker went in and inserted four points that shouldn't be there! \n",
    "\n",
    "The `pts_to_remove` variable defined in the code cell below contains a list of four points that need to be removed. Write code to remove these points. \n",
    "\n",
    "<i>Hint: loop through `pts_to_remove`, then remove the value in the loop variable from `mystery_country`.</i>"
   ]
  },
  {
   "cell_type": "code",
   "execution_count": null,
   "metadata": {},
   "outputs": [],
   "source": [
    "pts_to_remove = [(40,20),(30,0),(40,0),(60,10)]\n",
    "\n",
    "# Add your code below to remove these points to the mystery country\n"
   ]
  },
  {
   "cell_type": "markdown",
   "metadata": {},
   "source": [
    "## Insert Multiple Points\n",
    "This time the hacker removed a bunch of points from the middle of the list, and you need to add them back in. \n",
    "\n",
    "The `pts_to_insert` variable below contains the coordinates of the points, which need to be inserted into indices 40-44.  \n",
    "\n",
    "<i>Hint: <br>\n",
    " - Create a list of the numbers 0 to 4. \n",
    " - Loop through this list you just created. Let's call your loop variable `i` \n",
    "     - Inside the loop, insert item `i` of `pts_to_insert` into index position `i+40` of `mystery_country`.<br>\n",
    "</i></p>"
   ]
  },
  {
   "cell_type": "code",
   "execution_count": null,
   "metadata": {},
   "outputs": [],
   "source": [
    "pts_to_insert = [(27, -18), (22, -21), (10, -27), (7, -27), (7, -25)]\n",
    "\n",
    "# Add your code below to insert these points into index positions 40-44\n"
   ]
  },
  {
   "cell_type": "markdown",
   "metadata": {},
   "source": [
    "## Adjust the y-Coordinates\n",
    "OK, it's starting to look like a country but something is still dreadfully wrong. It appears that the hacker has modified the y-coordinate of every point!! \n",
    "\n",
    "<b>Fix the y-coordinate of each point by adding the value of its index.</b> For example, after the previous step the point at index `6` should have coordinates `(85,4)`. You need to fix the y-coordinate by adding the value of the index, which is `6`. Since `4 + 6 = 10`, the point should become `(85,10)`.\n",
    "    \n",
    "<i>Hint: You'll need to use a loop of course. It will be easiest to loop through the integers representing the index of each item in `mystery_country` - that will allow you to use the index in an equation to modify the y-coordinate of each point. Since you can't modify part of a tuple (because it is immutable), you'll have to extract each point as a tuple from `mystery_country`, then get the x- and y-coordinates from the tuple, and use these to create a new tuple representing the correct coordinates. Once you have the correct point tuple, you'll need to put it back into `mystery_country` to replace the one you just extracted. \n",
    "    \n",
    "Here's a step-by-step breakdown:<br>\n",
    " - Use the `len` function to determine the number of items in `mystery_country`\n",
    " - Use the `range` and `list` functions to create a list of all indices of `mystery_country`\n",
    " - Loop through the index list you just created, using loop variable `i`. Inside the loop:\n",
    "     - Use the `pop` method to extract from `mystery_country` the point tuple at index `i` and assign it to a new variable.\n",
    "     - Obtain the x-coordinate from this tuple and assign it to a new variable. Remember the x-coordinate is at index `0` of a point tuple.\n",
    "     - Obtain the y-coordinate from this tuple and assign it to a new variable. Remember the y-coordinate is at index `1` of a point tuple.\n",
    "     - Create a new point tuple with the desired coordinates.\n",
    "     - Insert the new point tuple into `mystery_country` at index `i`<br></i>\n",
    "This should be challenging. Think carefully through the problem and try to understand each step in the hint above before writing your code. Also, the above steps are just one way to perform this task - feel free to try a different way! In any case, if you get it right then when you plot `mystery_country` again it should look recognizable!"
   ]
  },
  {
   "cell_type": "code",
   "execution_count": null,
   "metadata": {},
   "outputs": [],
   "source": []
  }
 ],
 "metadata": {
  "kernelspec": {
   "display_name": "Python 3",
   "language": "python",
   "name": "python3"
  },
  "language_info": {
   "codemirror_mode": {
    "name": "ipython",
    "version": 3
   },
   "file_extension": ".py",
   "mimetype": "text/x-python",
   "name": "python",
   "nbconvert_exporter": "python",
   "pygments_lexer": "ipython3",
   "version": "3.6.9"
  }
 },
 "nbformat": 4,
 "nbformat_minor": 2
}
