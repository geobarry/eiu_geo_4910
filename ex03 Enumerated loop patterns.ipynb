{
 "cells": [
  {
   "cell_type": "markdown",
   "metadata": {
    "heading_collapsed": true
   },
   "source": [
    "# Exercise 3: Common patterns using enumerated loops\n",
    "Before beginning this exercise, please work through the following textbook chapters:\n",
    " - Matthes ch. 4 Working with Lists\n",
    " - Matthes ch. 5 if Statements"
   ]
  },
  {
   "cell_type": "markdown",
   "metadata": {
    "hidden": true
   },
   "source": [
    "## Introduction\n",
    "Working effectively with loops is one of the most important skills for a beginning programmer to learn. In this problem set, we will focus on enumerated loops, also referred to as `for` loops. These are loops in which the loop variable iterates through a predetermined set of values (e.g. a list). They are called \"enumerated\" loops because the items to loop through are listed or *enumerated* in advance.\n",
    "\n",
    "While `for` loops are powerful, they require a good deal of logic and imagination to be used effectively. To practice these skills you will work through seven common looping \"patterns\" that are encountered in everyday programming. Each pattern consists of an example with code provided to you, followed by a problem to solve on your own. There will also be several \"bonus challenges\" that will be more difficult to solve."
   ]
  },
  {
   "cell_type": "markdown",
   "metadata": {
    "hidden": true
   },
   "source": [
    "**Important: To receive credit you must use `for` loops to solve all problems.** <i>Do not use any built-in sorting, find/filter or min/max functions.</i> "
   ]
  },
  {
   "cell_type": "markdown",
   "metadata": {
    "heading_collapsed": true
   },
   "source": [
    "## Data\n",
    "The following data will be used throughout this assignment.Run the code in the following cell to create the list variables `state`, `abbrev`, `pop`, `capital`,`yearfounded` and `capcityrank`."
   ]
  },
  {
   "cell_type": "code",
   "execution_count": 2,
   "metadata": {
    "hidden": true
   },
   "outputs": [],
   "source": [
    "state = ['Alabama', 'Alaska', 'Arizona', 'Arkansas', 'California', 'Colorado', 'Connecticut', 'Delaware', 'Florida', 'Georgia', 'Hawaii', 'Idaho', 'Illinois', 'Indiana', 'Iowa', 'Kansas', 'Kentucky', 'Louisiana', 'Maine', 'Maryland', 'Massachusetts', 'Michigan', 'Minnesota', 'Mississippi', 'Missouri', 'Montana', 'Nebraska', 'Nevada', 'New Hampshire', 'New Jersey', 'New Mexico', 'New York', 'North Carolina', 'North Dakota', 'Ohio', 'Oklahoma', 'Oregon', 'Pennsylvania', 'Rhode Island', 'South Carolina', 'South Dakota', 'Tennessee', 'Texas', 'Utah', 'Vermont', 'Virginia', 'Washington', 'West Virginia', 'Wisconsin', 'Wyoming']\n",
    "abbrev = ['AL', 'AK', 'AZ', 'AR', 'CA', 'CO', 'CT', 'DE', 'FL', 'GA', 'HI', 'ID', 'IL', 'IN', 'IA', 'KS', 'KY', 'LA', 'ME', 'MD', 'MA', 'MI', 'MN', 'MS', 'MO', 'MT', 'NE', 'NV', 'NH', 'NJ', 'NM', 'NY', 'NC', 'ND', 'OH', 'OK', 'OR', 'PA', 'RI', 'SC', 'SD', 'TN', 'TX', 'UT', 'VT', 'VA', 'WA', 'WV', 'WI', 'WY']\n",
    "yearfounded = [1819, 1959, 1912, 1836, 1850, 1876, 1788, 1787, 1845, 1788, 1959, 1890, 1818, 1816, 1846, 1861, 1792, 1812, 1820, 1788, 1788, 1837, 1858, 1817, 1821, 1889, 1867, 1864, 1788, 1787, 1912, 1788, 1789, 1889, 1803, 1907, 1859, 1787, 1790, 1788, 1889, 1796, 1845, 1896, 1791, 1788, 1889, 1863, 1848, 1890]\n",
    "capital = ['Montgomery', 'Juneau', 'Phoenix', 'Little Rock', 'Sacramento', 'Denver', 'Hartford', 'Dover', 'Tallahassee', 'Atlanta', 'Honolulu', 'Boise', 'Springfield', 'Indianapolis', 'Des Moines', 'Topeka', 'Frankfort', 'Baton Rouge', 'Augusta', 'Annapolis', 'Boston', 'Lansing', 'Saint Paul', 'Jackson', 'Jefferson City', 'Helena', 'Lincoln', 'Carson City', 'Concord', 'Trenton', 'Santa Fe', 'Albany', 'Raleigh', 'Bismarck', 'Columbus', 'Oklahoma City', 'Salem', 'Harrisburg', 'Providence', 'Columbia', 'Pierre', 'Nashville', 'Austin', 'Salt Lake City', 'Montpelier', 'Richmond', 'Olympia', 'Charleston', 'Madison', 'Cheyenne']\n",
    "pop = [205764, 31275, 1445632, 193524, 466488, 600158, 124775, 36047, 181412, 420003, 337256, 205671, 116250, 829718, 203433, 127473, 25527, 229553, 19136, 38394, 617594, 114297, 285068, 173514, 43079, 28190, 258379, 55274, 42695, 84913, 75764, 97856, 403892, 61272, 822553, 580000, 154637, 49528, 178042, 131686, 13646, 635710, 790390, 186440, 7855, 204214, 46478, 51400, 233209, 59466]\n",
    "capcityrank = [2, 3, 1, 1, 6, 1, 3, 2, 7, 1, 1, 1, 6, 1, 1, 4, 14, 2, 8, 7, 1, 5, 2, 1, 15, 6, 2, 6, 3, 10, 4, 6, 2, 2, 1, 1, 3, 9, 1, 1, 8, 2, 4, 1, 5, 4, 22, 1, 2, 1]"
   ]
  },
  {
   "cell_type": "markdown",
   "metadata": {},
   "source": [
    "These lists are all the same length and contain the following information about each U.S. state, in alphabetical order of state name:\n",
    " - `state` the name of the state\n",
    " - `abbrev` it's 2-letter abbrevation\n",
    " - `yearfounded` the year it became a U.S. state\n",
    " - `capital` the name of the state capital\n",
    " - `pop` the population of the state capital\n",
    " - `capcityrank` the population rank of the capital city compared to all cities in the same state. For example, Montgomery is the 2<sup>nd</sup> largest city in Alabama.\n",
    " \n",
    "Take some time to examine these data before continuing."
   ]
  },
  {
   "cell_type": "markdown",
   "metadata": {
    "heading_collapsed": true
   },
   "source": [
    "# Pattern 1: Process every item\n",
    "A common looping task is to process all values in a list in some manner, for example by applying string formatting or a mathematical equation. Typically the processed values are then transferred into another list."
   ]
  },
  {
   "cell_type": "markdown",
   "metadata": {},
   "source": [
    "### Example:\n",
    "The following code creates a new list containing the number of cities in each state that are larger than the state capital. This is just one less than the ***population rank***, but the idea is that maybe it is a more intuitive variable or we just prefer to record the information in this form. "
   ]
  },
  {
   "cell_type": "code",
   "execution_count": null,
   "metadata": {},
   "outputs": [],
   "source": [
    "num_larger = []             # initialize results list\n",
    "for rank in capcityrank:    # loop through capital city population ranks\n",
    "    n = rank-1              # subtract one from rank\n",
    "    num_larger.append(n)    # append to results list\n",
    "    \n",
    "# show result for a random state\n",
    "i = 22 \n",
    "print(\"There are {} cities larger than {} in {}\".format(larger_cities[i],capital[i],state[i]))"
   ]
  },
  {
   "cell_type": "markdown",
   "metadata": {
    "heading_collapsed": true,
    "hidden": true
   },
   "source": [
    "### Problem:\n",
    "Create a list containing the age of each state (i.e. the number of years from when the state was founded to the present day)"
   ]
  },
  {
   "cell_type": "code",
   "execution_count": null,
   "metadata": {},
   "outputs": [],
   "source": [
    "# your solution here"
   ]
  },
  {
   "cell_type": "markdown",
   "metadata": {},
   "source": [
    "# Pattern 2: Combine values from multiple lists\n",
    "Another common task is to combine values from two or more lists that are in the same order, maybe by applying a mathematical formula or using string concatenation. You could use the `zip` function to help with this task, but another approach is to use the `range` function to create an ***index list*** and then loop through this index list. You can then use the loop variable as an index to the item in each list."
   ]
  },
  {
   "cell_type": "markdown",
   "metadata": {
    "hidden": true
   },
   "source": [
    "## Example:\n",
    "The following code produces a list of city/state name pairs as text, separated by a comma:"
   ]
  },
  {
   "cell_type": "code",
   "execution_count": 3,
   "metadata": {
    "hidden": true
   },
   "outputs": [
    {
     "name": "stdout",
     "output_type": "stream",
     "text": [
      "Here are the first five cities in the result list:\n",
      "['Montgomery, Alabama', 'Juneau, Alaska', 'Phoenix, Arizona', 'Little Rock, Arkansas', 'Sacramento, California']\n"
     ]
    }
   ],
   "source": [
    "# create list of strings in the form \"<city>, <state>\"\n",
    "city_states = []                                         # initialize output to empty list\n",
    "for i in range(len(state)):                              # loop through indices so we can access values from both lists\n",
    "    city_state = \"{}, {}\".format(capital[i],state[i])    # construct string for this item\n",
    "    city_states.append(city_state)                       # append to output list\n",
    "\n",
    "# There is no need to print out all 50 strings. Let's just print the first five:\n",
    "print(\"Here are the first five cities in the result list:\")\n",
    "print(city_states[:5])"
   ]
  },
  {
   "cell_type": "markdown",
   "metadata": {
    "heading_collapsed": true,
    "hidden": true
   },
   "source": [
    "### Problem: \n",
    "Produce a list of statements of the following form:\n",
    "\n",
    "`The capital of Wyoming is Cheyenne, population 59,466.`\n",
    "\n",
    "Then print out the first five statements in your list."
   ]
  },
  {
   "cell_type": "code",
   "execution_count": null,
   "metadata": {
    "hidden": true
   },
   "outputs": [],
   "source": [
    "# your solution here"
   ]
  },
  {
   "cell_type": "markdown",
   "metadata": {
    "heading_collapsed": true
   },
   "source": [
    "# Pattern 3: Find the superlative item\n",
    "Often you will want to find the item in a list with the most, least, largest, smallest or other superlative value. Sometimes you may need to process each value first and/or work with multiple lists. The trick is to initialize a variable representing the ***\"winner\"*** prior to entering the list. Then when you loop through the values in the list, at each iteration check to see if you have found a new winner and update the variable accordingly."
   ]
  },
  {
   "cell_type": "markdown",
   "metadata": {
    "heading_collapsed": true,
    "hidden": true
   },
   "source": [
    "### Example:\n",
    "The following code finds the population of the largest capital city:"
   ]
  },
  {
   "cell_type": "code",
   "execution_count": null,
   "metadata": {
    "hidden": true
   },
   "outputs": [],
   "source": [
    "# Find capital city with the largest population:\n",
    "w = 0                        # initialize \"winner\" to zero\n",
    "for i in range(len(pop)):    # loop through all population values\n",
    "    if pop[i] > w:           # compare current list item to \"winner\"\n",
    "        w=pop[i]             # if current value is larger, we've got a new \"winner\"\n",
    "\n",
    "# By the end of the loop, \"w\" will be the highest population\n",
    "print(\"The largest capital city in the U.S. has a population of {:,}.\".format(largest_pop))"
   ]
  },
  {
   "cell_type": "markdown",
   "metadata": {
    "hidden": true
   },
   "source": [
    "### Problem:\n",
    "Find the state that became a state most recently. "
   ]
  },
  {
   "cell_type": "code",
   "execution_count": null,
   "metadata": {
    "hidden": true
   },
   "outputs": [],
   "source": [
    "# your solution here"
   ]
  },
  {
   "cell_type": "markdown",
   "metadata": {},
   "source": [
    "### Bonus Challenge:\n",
    "  - If the task was to find the largest number in a list of negative numbers, then initializing the ***\"winner\"*** to zero would't work. Can you think of a way to initialize the ***\"winner\"*** that will work in *all* similar problems, no matter the range of values in the list?"
   ]
  },
  {
   "cell_type": "markdown",
   "metadata": {
    "heading_collapsed": true
   },
   "source": [
    "# (4) Find the superlative a derivative value "
   ]
  },
  {
   "cell_type": "markdown",
   "metadata": {
    "hidden": true
   },
   "source": [
    "Sometimes you will need to find the value in a list that has the most (or least) of some property that hasn't been calculated yet. This is not too difficult if you can figure out how to calculate a value that represents what you are searching for."
   ]
  },
  {
   "cell_type": "markdown",
   "metadata": {
    "hidden": true
   },
   "source": [
    "### Example:\n",
    "Find the state with the longest name:"
   ]
  },
  {
   "cell_type": "code",
   "execution_count": null,
   "metadata": {
    "hidden": true
   },
   "outputs": [],
   "source": [
    "# find state with longest name\n",
    "w = \"\"                      # initialize \"winner\" to an empty string\n",
    "for s in state:             # loop through all states\n",
    "    if len(s) > len(w):     # compare the length of the current state with the \"winner\"\n",
    "        w = s               # if it's longer, we've got a new winner\n",
    "print(\"The state with the longest name is {}!\".format(w))"
   ]
  },
  {
   "cell_type": "markdown",
   "metadata": {
    "heading_collapsed": true,
    "hidden": true
   },
   "source": [
    "### Problem:\n",
    "Find the state founded closest to the year 1900 (hint: use the `abs()` function!)"
   ]
  },
  {
   "cell_type": "code",
   "execution_count": null,
   "metadata": {
    "hidden": true
   },
   "outputs": [],
   "source": [
    "# hint: run this code to see what the abs() function does:\n",
    "print(abs(3))\n",
    "print(abs(-3))\n",
    "# your solution here"
   ]
  },
  {
   "cell_type": "markdown",
   "metadata": {},
   "source": [
    "### Bonus Challenge:\n",
    " - There is a problem with the example: what if there's a tie? Fix the code to correctly handle the case where more than one state share the distinction of having the most number of letters in their names."
   ]
  },
  {
   "cell_type": "markdown",
   "metadata": {
    "heading_collapsed": true
   },
   "source": [
    "# (5) Find items that meet a condition\n",
    "Often you will want to *filter* a list, that is create a new list that contains only the items from your initial list that meet a certain condition. In many environments there are built-in functions to filter a list, but you now have the tools to do this yourself using a `for` loop combined with an `if` statement."
   ]
  },
  {
   "cell_type": "markdown",
   "metadata": {
    "hidden": true
   },
   "source": [
    "### Example:\n",
    "Find all states founded before 1800 whose capital cities have more than 500,000 people today:"
   ]
  },
  {
   "cell_type": "code",
   "execution_count": null,
   "metadata": {
    "hidden": true
   },
   "outputs": [],
   "source": [
    "# Find all states founded before 1800 whose capital cities have more than 500,000 people today\n",
    "result=[]                             # initialize results list\n",
    "for i in range(len(pop)):             # loop through all states\n",
    "    if pop[i] > 500000:               # see if population is more than 500,000\n",
    "        if yearfounded[i] < 1800:     # see if state was founded before 1800\n",
    "            result.append(i)          # if both conditions are met, append to solution\n",
    "# print all results\n",
    "for i in result:\n",
    "    print(\"{},{} (pop {}) was founded in {}\".format(capital[i],state[i],pop[i],yearfounded[i]))"
   ]
  },
  {
   "cell_type": "markdown",
   "metadata": {
    "heading_collapsed": true,
    "hidden": true
   },
   "source": [
    "### Problem:\n",
    "Find all capital cities with population > 250,000 that are not the largest city in their state (capcityrank > 1)."
   ]
  },
  {
   "cell_type": "code",
   "execution_count": null,
   "metadata": {
    "hidden": true
   },
   "outputs": [],
   "source": [
    "# your solution here"
   ]
  },
  {
   "cell_type": "markdown",
   "metadata": {
    "heading_collapsed": true
   },
   "source": [
    "# (6) Compute a summary statistic\n",
    "Common summary statistics such as count, average, total, standard deviation, etc. can be calculated using a simple `for` loop. Use one or more variables to keep track of running totals inside the loop, then perform any additional calculations you need after the loop is finished."
   ]
  },
  {
   "cell_type": "markdown",
   "metadata": {
    "hidden": true
   },
   "source": [
    "### Example:\n",
    "Find the average length of the names of U.S. states."
   ]
  },
  {
   "cell_type": "code",
   "execution_count": null,
   "metadata": {
    "hidden": true
   },
   "outputs": [],
   "source": [
    "# Calculate the average length of state names \n",
    "sum=0.0                      # initialize to a float\n",
    "count=0                      # initialize to integer\n",
    "for s in state:              # loop through states\n",
    "    sum = sum + len(s)       # add to running sum of letter counts\n",
    "    count = count + 1        # add to running count of states\n",
    "avg= sum /count              # finally, calculate average\n",
    "# print result\n",
    "print(\"The average length of a state's name is {} letters!\".format(str(avg)))"
   ]
  },
  {
   "cell_type": "markdown",
   "metadata": {
    "hidden": true
   },
   "source": [
    "### Problem:\n",
    "Count the number of capital cities that are the most populous city in their state (i.e. capcityrank = 1)."
   ]
  },
  {
   "cell_type": "code",
   "execution_count": null,
   "metadata": {
    "hidden": true
   },
   "outputs": [],
   "source": [
    "# your solution here"
   ]
  },
  {
   "cell_type": "markdown",
   "metadata": {
    "heading_collapsed": true
   },
   "source": [
    "# (7) Analyze relationships between pairs of items\n",
    "In many situations you wish to discover relationships between two different items in a list. This requires a ***nested loop***. Nested loops can be dangerous because the inner loop code will be executed a large number of times, so be careful!"
   ]
  },
  {
   "cell_type": "markdown",
   "metadata": {
    "hidden": true
   },
   "source": [
    "### Example A:\n",
    "Print all unique pairs of state names."
   ]
  },
  {
   "cell_type": "code",
   "execution_count": null,
   "metadata": {
    "hidden": true
   },
   "outputs": [],
   "source": [
    "# Print all unique pairs of state names\n",
    "for s1 in state:                 # outer loop\n",
    "    for s2 in state:             # inner loop\n",
    "        print(s1, s2)            # print both state names"
   ]
  },
  {
   "cell_type": "markdown",
   "metadata": {
    "hidden": true
   },
   "source": [
    "Whoa, that's a long printout!\n",
    "\n",
    "Be careful with nested loops, they can be computationally expensive!"
   ]
  },
  {
   "cell_type": "markdown",
   "metadata": {
    "hidden": true
   },
   "source": [
    "### Example B:\n",
    "Find all pairs of states that have the same first and last letter. (This will still loop through all pairs of states, but only print the ones that meet this condition)."
   ]
  },
  {
   "cell_type": "code",
   "execution_count": null,
   "metadata": {
    "hidden": true
   },
   "outputs": [],
   "source": [
    "# Find all pairs of states that have the same first & last letter\n",
    "matchlist=[]                            # initialize result to empty list\n",
    "for s1 in state:                        # loop through states to get first state\n",
    "    for s2 in state:                    # loop through states again to get 2nd state\n",
    "        if s1[0]==s2[0]:                # see if their first letters match\n",
    "            if s1[-1]==s2[-1]:          # see if their last letters match\n",
    "                match=(s1,s2)           # if so, get tuple containing both states\n",
    "                matchlist.append(match) # add tuple to results list\n",
    "# Report results\n",
    "for match in matchlist:                 # loop through list of matches\n",
    "    print(\"{} and {} have the same first & last letters.\".format(match[0],match[1]))"
   ]
  },
  {
   "cell_type": "markdown",
   "metadata": {
    "hidden": true
   },
   "source": [
    "### Problem:\n",
    "Find all pairs of capital cities that have nearly the same population. Specifically, their populations should differ by less than 1000. For each pair, print the names of both cities, the states they are in and their populations."
   ]
  },
  {
   "cell_type": "code",
   "execution_count": null,
   "metadata": {
    "hidden": true
   },
   "outputs": [],
   "source": [
    "# your solution here"
   ]
  },
  {
   "cell_type": "markdown",
   "metadata": {},
   "source": [
    "## Bonus Challenge:\n",
    " - The example solution is inefficient because each pair of states is examined twice, so the results list contains duplicates. For example, the results list includes both `('Alaska','Alabama')` and `('Alabama','Alaska')`. In addition, each state is compared with itself so that the results list contains such oddities as `('Alabama','Alabama')`. Alter the code so that each pair of states is examined only once and a state is never compared with itself."
   ]
  }
 ],
 "metadata": {
  "kernelspec": {
   "display_name": "Python 3",
   "language": "python",
   "name": "python3"
  },
  "language_info": {
   "codemirror_mode": {
    "name": "ipython",
    "version": 3
   },
   "file_extension": ".py",
   "mimetype": "text/x-python",
   "name": "python",
   "nbconvert_exporter": "python",
   "pygments_lexer": "ipython3",
   "version": "3.6.6"
  }
 },
 "nbformat": 4,
 "nbformat_minor": 2
}
