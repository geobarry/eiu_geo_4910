{
 "cells": [
  {
   "cell_type": "markdown",
   "metadata": {
    "heading_collapsed": true
   },
   "source": [
    "\n",
    "# Read before you start"
   ]
  },
  {
   "cell_type": "markdown",
   "metadata": {
    "hidden": true
   },
   "source": [
    "Before beginning this exercise you should read through the following:\n",
    " - Matthes Ch. 2 Variables and Simple Data Types\n",
    " - Matthes Ch. 3 Introducing Lists, first two sections: \n",
    "     - <i>What is a List</i>\n",
    "     - <i>Changing, Adding and Removing Elements</i>"
   ]
  },
  {
   "cell_type": "markdown",
   "metadata": {},
   "source": [
    "# Working with Jupyter Notebooks\n",
    "Jupyter Notebooks contain two kinds of cells:\n",
    "1. <em><b>Markdown cells</b></em> contain descriptive text that can be styled (\"marked\"), similar to HTML. \n",
    "2. <em><b>Code cells</b></em> contain Python code that can be executed (\"run\") by the Python run-time interpreter, also known as the \"kernel\".\n",
    "\n",
    "To navigate cells in a notebook, just play around. Here are some tips:\n",
    "1. Clicking on a code cell will both ***select*** and ***enter*** that cell.\n",
    "2. But using a keyboard is more efficient. \n",
    "    * Use the `<Up>` and `<Down>` arrow keys to move between cells.\n",
    "    * Press `<Enter>` to enter a cell for editing.\n",
    "    * Press `<Esc>` to exit a cell without displaying or running it.\n",
    "    * Press `<Ctrl>` `<Enter>` to \"display\" a markdown cell or \"run\" a code cell. \n",
    "3. You can also create, re-order and change the type of cells using the menu and toolbars above.\n",
    "4. The `Kernel` menu is useful for running all code at once and for clearing the output from code you have previously run.\n",
    "5. Just like any file, be sure to save your work often.\n",
    "\n",
    "Go ahead and enter this cell to view the Markdown code. What symbol is used to create the bold, large-font heading style? Make a note of this, then return this cell to display mode and perform the following task: \n",
    "\n",
    "<p style=\"color:red; font-style: italic; font-size: 120%\">\n",
    "Insert a new Markdown cell at the top of this notebook, with the title \"My first Jupyter Notebook\" in heading style followed by your name in regular style. Be sure to return the cell you create to display mode before moving on.\n",
    "</p>\n",
    "\n",
    "In subsequent assignments, please add a similar cell at the top of each Jupyter notebook with your name and any general comments or questions you have about the assignment."
   ]
  },
  {
   "cell_type": "markdown",
   "metadata": {
    "heading_collapsed": true,
    "hidden": true
   },
   "source": [
    "# Hello World\n",
    "Now that your familiar with markdown, it's time to learn some Python. It is a tradition across the programming world to begin your experience with a new language by writing code that produces a simple global greeting. You have to do this yourself. Type the following code into the cell below:\n",
    "\n",
    "`print(\"Hello World!\")`"
   ]
  },
  {
   "cell_type": "code",
   "execution_count": null,
   "metadata": {},
   "outputs": [],
   "source": []
  },
  {
   "cell_type": "markdown",
   "metadata": {},
   "source": [
    "Then run your code by pressing `<Ctrl>` `<Enter>`. What happens? \n",
    "\n",
    "<p style=\"color:red\"><i>In the <b>markdown</b> cell below, make a note of everything that you notice happens when you run the code you wrote in the cell above. </i><p>"
   ]
  },
  {
   "cell_type": "markdown",
   "metadata": {},
   "source": []
  },
  {
   "cell_type": "markdown",
   "metadata": {},
   "source": [
    "# Code Comments\n",
    "You were able to type your answer into the above cell because it is a \"Markdown\" cell. \n",
    "The separation between <em><b>markdown</b></em> and <em><b>code</b></em> cells is useful - the markdown cells provide a kind of \"training wheels\" for learning Python. But you need to get into the habit of placing descriptive text right into your Python code. This is achieved using <i>comments</i>, which is just \"code\" that doesn't get executed by Python. \n",
    "To write a comment within a code cell, simply place a hashtag (#) in front of the comment.\n",
    "<p style=\"color:red\"><i>Add a comment to your \"Hello World\" code cell above indicating your name and your prior programming experience (if you have none, just say that this is your first program)</p></i>\n"
   ]
  },
  {
   "cell_type": "markdown",
   "metadata": {
    "heading_collapsed": true
   },
   "source": [
    "## Printing and Indentation"
   ]
  },
  {
   "cell_type": "markdown",
   "metadata": {
    "hidden": true
   },
   "source": [
    "A statement that ends with a colon is called a \"wrapper\" and indicates that the next section of code should be indented four spaces. The indented code is called a code <b><em>block</em></b>. Here's an example:"
   ]
  },
  {
   "cell_type": "code",
   "execution_count": 1,
   "metadata": {
    "hidden": true
   },
   "outputs": [
    {
     "name": "stdout",
     "output_type": "stream",
     "text": [
      "Indentation is important in python!\n"
     ]
    }
   ],
   "source": [
    "msg = \"Indentation is important in python!\"\n",
    "if True:\n",
    "    print(msg)"
   ]
  },
  {
   "cell_type": "markdown",
   "metadata": {},
   "source": [
    "Here the \"wrapper\" is the line `if True` and the code block is a single line of code, `print(msg)`.\n",
    "\n",
    "The code in the next cell doesn't work correctly. Run the code to see the error message produced. Then fix the code so that it prints the intended message."
   ]
  },
  {
   "cell_type": "code",
   "execution_count": null,
   "metadata": {},
   "outputs": [],
   "source": [
    "for i in range(10):\n",
    "print(str(i) + \" little piggies went to the bank.\")"
   ]
  },
  {
   "cell_type": "markdown",
   "metadata": {
    "heading_collapsed": true
   },
   "source": [
    "## Variables and Types"
   ]
  },
  {
   "cell_type": "markdown",
   "metadata": {},
   "source": [
    "A variable in python is just a name for an object that can hold a value. A variable can hold any type of value, but one common variable type is a string which is just a fancy name for text. This creates a problem: how do you distinguish a variable name from a string value? The answer is that string values are indicated by placing the text in quotation marks.\n",
    "\n",
    "The code in the next cell makes a common \"newbie\" mistake related to variables and strings. Run the code to see the error, then fix the code so that it works correctly:"
   ]
  },
  {
   "cell_type": "code",
   "execution_count": null,
   "metadata": {
    "hidden": true
   },
   "outputs": [],
   "source": [
    "city = \"Buenos Aires\"\n",
    "country = \"Argentina\"\n",
    "print(city)\n",
    "print(Argentina)"
   ]
  },
  {
   "cell_type": "markdown",
   "metadata": {
    "heading_collapsed": true,
    "hidden": true
   },
   "source": [
    "#### Numbers vs. Strings"
   ]
  },
  {
   "cell_type": "markdown",
   "metadata": {
    "hidden": true
   },
   "source": [
    "The code in the next cell is supposed to calculate the total number of trees on a piece of property. Although it does not throw an error, it doesn't print the correct result. Fix the code to perform the correct calculation."
   ]
  },
  {
   "cell_type": "code",
   "execution_count": null,
   "metadata": {
    "hidden": true
   },
   "outputs": [],
   "source": [
    "acres = 20\n",
    "trees_per_acre = \"one hundred\"\n",
    "total_trees = acres * trees_per_acre\n",
    "print(\"Total number of trees:\")\n",
    "print(total_trees)"
   ]
  },
  {
   "cell_type": "markdown",
   "metadata": {
    "heading_collapsed": true,
    "hidden": true
   },
   "source": [
    "#### String Concatenation"
   ]
  },
  {
   "cell_type": "markdown",
   "metadata": {
    "hidden": true
   },
   "source": [
    "In GIS programming, it is often necessary to refer to the path of a shapefile or feature class. The path consists of three parts: the ***folder***, the ***filename*** and the ***extension***. For example, for the following shapefile path:\n",
    "\n",
    "`\"C:\\\\projects\\\\bungee_jumping\\\\jump_points.shp\"`\n",
    "\n",
    "the three parts are:\n",
    " - folder: `\"C:\\\\projects\\\\bungee_jumping\"`\n",
    " - filename: `\"jump_points\"`\n",
    " - extension: `\"shp\"`\n",
    " \n",
    "The next cell block defines three variables for each of the above parts. Complete the code statement in line 7 to combine these parts into a full path. \n",
    "\n",
    "*Note: python requires you to use two backslashes in succession `\\\\` to represent a single backslash*"
   ]
  },
  {
   "cell_type": "code",
   "execution_count": null,
   "metadata": {
    "hidden": true
   },
   "outputs": [],
   "source": [
    "# three path parts\n",
    "folder = \"C:\\\\projects\\\\bungee_jumping\"\n",
    "filename = \"jump_points\"\n",
    "ext = \"shp\"\n",
    "\n",
    "# use string concatenation to combine these into a full path\n",
    "path = \n",
    "\n",
    "print(\"The file is located at:\")\n",
    "print(path)"
   ]
  },
  {
   "cell_type": "markdown",
   "metadata": {},
   "source": [
    "## Lists"
   ]
  },
  {
   "cell_type": "markdown",
   "metadata": {},
   "source": [
    "The code in the next cell creates a list of countries that have joined a treaty to ban maps oriented with North at the top. Using what you have learned in Matthes, add code to perform the tasks indicated in comments. "
   ]
  },
  {
   "cell_type": "code",
   "execution_count": null,
   "metadata": {},
   "outputs": [],
   "source": [
    "# list of signatory countries to MOST (Maps Oriented with South on Top) Treaty, in order of signing \n",
    "signatories = [\"Argentina\",\"Chile\",\"New Zealand\"]\n",
    "\n",
    "# Write code to add Australia and South Africa to the list\n",
    "\n",
    "\n",
    "\n",
    "# Write code to determine the 3rd country to sign the treaty\n"
   ]
  },
  {
   "cell_type": "markdown",
   "metadata": {},
   "source": [
    "The next cell attempts to print some information about the treaty signatory countries. However, the last line of code produces an error. Determine the cause of the error, and fix it.\n",
    "\n",
    "*Note: This code uses the variable `signatories` defined in the previous cell. Therefore, you must run the code in the previous cell before running the code in this cell.*"
   ]
  },
  {
   "cell_type": "code",
   "execution_count": null,
   "metadata": {},
   "outputs": [],
   "source": [
    "# determine the length of the list\n",
    "count = len(signatories)\n",
    "print(\"The MOST Treaty has been signed by \" + str(count) + \" countries.\")\n",
    "\n",
    "# print the name of the first country to sign the treaty\n",
    "print(\"The first country to sign was \" + signatories[0])\n",
    "\n",
    "\n",
    "# print the name of the last country to sign the treaty\n",
    "print(\"The most recent country to sign the treaty was \" + signatories[count])\n"
   ]
  },
  {
   "cell_type": "markdown",
   "metadata": {
    "heading_collapsed": true
   },
   "source": [
    "## Operators"
   ]
  },
  {
   "cell_type": "markdown",
   "metadata": {
    "heading_collapsed": true,
    "hidden": true
   },
   "source": [
    "#### Unit conversion with basic math operators"
   ]
  },
  {
   "cell_type": "markdown",
   "metadata": {
    "hidden": true
   },
   "source": [
    "Complete the following code to convert kilometers to miles."
   ]
  },
  {
   "cell_type": "code",
   "execution_count": null,
   "metadata": {
    "hidden": true
   },
   "outputs": [],
   "source": [
    "race_km = 5\n",
    "\n",
    "# complete the next line of code to determine the race length\n",
    "# in miles (there are 1.609 km in a mile)\n",
    "race_miles = \n",
    "\n",
    "print(\"The race is \" + str(race_miles) + \" miles long.\")"
   ]
  },
  {
   "cell_type": "markdown",
   "metadata": {
    "heading_collapsed": true,
    "hidden": true
   },
   "source": [
    "#### Exponentiation (Pythagorean Theorem)"
   ]
  },
  {
   "cell_type": "markdown",
   "metadata": {
    "hidden": true
   },
   "source": [
    "The cell below defines the function `hypotenuse` to calculate the hypotenuse of a right triangle. The formula contained in the function is not correct. Replace this with the correct formula using the Pythagorean theorem:\n",
    "\\begin{align}\n",
    "c = \\sqrt{a^2 + b^2}\n",
    "\\end{align}\n",
    "*Hint: the square of a number is the same as that number raised to the power of one half*"
   ]
  },
  {
   "cell_type": "code",
   "execution_count": null,
   "metadata": {
    "hidden": true
   },
   "outputs": [],
   "source": [
    "def hypotenuse(a,b):\n",
    "    # fix the next line to calculate the length of the hypotenuse\n",
    "    c = a * b # this is not the correct formula\n",
    "    return c\n",
    "\n",
    "dx = 5\n",
    "dy = 12\n",
    "distance = hypotenuse(dx,dy)\n",
    "print(\"We walked \" + str(dx) + \" miles east.\")\n",
    "print(\"Then we walked \" + str(dy) + \" miles north.\")\n",
    "print(\"We ended up \" + str(distance) + \" miles from where we started.\")"
   ]
  },
  {
   "cell_type": "markdown",
   "metadata": {
    "heading_collapsed": true
   },
   "source": [
    "## String Formatting"
   ]
  },
  {
   "cell_type": "markdown",
   "metadata": {
    "heading_collapsed": true,
    "hidden": true
   },
   "source": [
    "#### Using the `<string>.format()` method"
   ]
  },
  {
   "cell_type": "markdown",
   "metadata": {
    "hidden": true
   },
   "source": [
    "Another way of combining strings together is to use the `<string>.format()` method. The following code shows the basic use of this method. Go ahead and run the code to see how it works:"
   ]
  },
  {
   "cell_type": "code",
   "execution_count": null,
   "metadata": {
    "hidden": true
   },
   "outputs": [],
   "source": [
    "city = \"Lisbon\"\n",
    "state = \"Portugal\"\n",
    "msg = \"{} is the capital city of {}, if I'm not mistaken.\".format(city, state)\n",
    "print(msg)"
   ]
  },
  {
   "cell_type": "markdown",
   "metadata": {
    "hidden": true
   },
   "source": [
    "Now try this out on your own. Repeat the exercise you did earlier to create the full path to a shapefile from its component parts. This time, use the `<string>.format()` method instead of the `+` concatenation operator."
   ]
  },
  {
   "cell_type": "code",
   "execution_count": null,
   "metadata": {
    "hidden": true
   },
   "outputs": [],
   "source": [
    "# three path parts\n",
    "folder = \"C:\\\\projects\\\\bungee_jumping\"\n",
    "filename = \"jump_points\"\n",
    "ext = \"shp\"\n",
    "\n",
    "# use the <string>.format() method to combine these into a full path\n",
    "path = \n",
    "\n",
    "print(\"The file is located at:\")\n",
    "print(path)"
   ]
  },
  {
   "cell_type": "markdown",
   "metadata": {
    "heading_collapsed": true,
    "hidden": true
   },
   "source": [
    "#### Controlling the appearance of numbers with format codes"
   ]
  },
  {
   "cell_type": "markdown",
   "metadata": {
    "hidden": true
   },
   "source": [
    "The `<string>.format()` method allows you to specify how you would like numbers to be formated in text by placing format codes after a `:` colon inside the `{}` squiggly brackets. For example, the following code produces a string with numbers to exactly two decimal places:"
   ]
  },
  {
   "cell_type": "code",
   "execution_count": null,
   "metadata": {
    "hidden": true
   },
   "outputs": [],
   "source": [
    "lat = 39.5\n",
    "lon = 89.16666666\n",
    "msg = \"Spock, beam me to {:.2f} north, {:.2f} west!\".format(lat,lon)\n",
    "print(msg)"
   ]
  },
  {
   "cell_type": "markdown",
   "metadata": {
    "hidden": true
   },
   "source": [
    "The following web page shows many other useful format codes:\n",
    "\n",
    "https://mkaz.blog/code/python-string-format-cookbook/\n",
    "\n",
    "The next cell block prints a list of state FIPS codes. Insert a format code into the approriate locations to add a leading zero to each 1-digit FIPS code. When you run the code, the output should look like this: \n",
    "~~~~\n",
    "FIPS codes:\n",
    "04 Arizona\n",
    "08 Colorado\n",
    "49 Utah\n",
    "~~~~"
   ]
  },
  {
   "cell_type": "code",
   "execution_count": null,
   "metadata": {
    "hidden": true
   },
   "outputs": [],
   "source": [
    "states = [\"Arizona\", \"Colorado\",\"Utah\"]\n",
    "FIPS_codes = [4,8,49]\n",
    "print(\"FIPS codes:\")\n",
    "for i in range(0,3):\n",
    "    # add a format code inside one of the squiggly brackets below\n",
    "    print(\"{} {}\".format(FIPS_codes[i],states[i]))"
   ]
  },
  {
   "cell_type": "markdown",
   "metadata": {},
   "source": [
    "## String Operations"
   ]
  },
  {
   "cell_type": "markdown",
   "metadata": {},
   "source": [
    "Modify the following code to extract the simple name of a shapefile from a complete path string. For the example path\n",
    "`C:\\projects\\wine_regions\\bordeaux.shp`\n",
    "your code should print the following message:\n",
    "\n",
    "~~~~\n",
    "Extracting shapefile name... \n",
    "The path has 4 sections separated by backslashes.\n",
    "The last section is 'bordeaux.shp'.\n",
    "The shapefile name is 'bordeaux'!~~~~\n",
    "\n",
    "Use string methods such as `<string>.find()` and `<string>.slice()` to work through the process. Your code should work correctly for any path, not just the example path provided. For example, the code should work correctly even if the path is changed to any of the following:\n",
    "\n",
    " - `path = \"C:\\\\my_projects\\\\beer_regions\\\\Hessen.shp\"`\n",
    " - `path = \"C:\\\\my_projects\\\\food_and_drink\\\\Russia\\\\vodka_regions\\\\Beluga.shp\"`\n",
    " - `path = \"Z:\\\\Japan\\\\sake_regions\\\\神戸灘区.shp\"`\n",
    "\n",
    "Think carefully - if you find that you are creating strings yourself, step back and figure out how you can get Python to do the work for you!"
   ]
  },
  {
   "cell_type": "code",
   "execution_count": null,
   "metadata": {},
   "outputs": [],
   "source": [
    "# This is an example path:\n",
    "path=\"C:\\\\projects\\\\wine_regions\\\\bordeaux.shp\"\n",
    "\n",
    "# Modify the five lines of code after each numbered comment below. \n",
    "# In each line, replace the '' with a string operation described in the learnpython.org tutorial.\n",
    "# Your code should work on any valid path, not just the example path above.\n",
    "\n",
    "print(\"Extracting shapefile name...\")\n",
    "\n",
    "# (1) split the path into sections between (double) back-slashes\n",
    "path_sections = ''\n",
    "\n",
    "# (2) determine the number of sections in the path\n",
    "section_count = ''\n",
    "print(\"The path has {} sections separated by backslashes.\".format(section_count))\n",
    "\n",
    "# (3) get the last section using string\n",
    "last_section = ''\n",
    "print(\"The last section is '{}'.\".format(last_section))\n",
    "\n",
    "# (4) fill in the parentheses to make sure that it is a shapefile\n",
    "if last_section.endswith(''):\n",
    "    # (5) use slicing to obtain the name, up to (but not including) \".shp\"\n",
    "    shape_name = ''\n",
    "    print(\"The shapefile name is '{}'!\".format(shape_name))\n",
    "else:\n",
    "    print(\"This is not a shapefile!\")\n"
   ]
  }
 ],
 "metadata": {
  "kernelspec": {
   "display_name": "Python 3",
   "language": "python",
   "name": "python3"
  },
  "language_info": {
   "codemirror_mode": {
    "name": "ipython",
    "version": 3
   },
   "file_extension": ".py",
   "mimetype": "text/x-python",
   "name": "python",
   "nbconvert_exporter": "python",
   "pygments_lexer": "ipython3",
   "version": "3.6.6"
  }
 },
 "nbformat": 4,
 "nbformat_minor": 2
}
